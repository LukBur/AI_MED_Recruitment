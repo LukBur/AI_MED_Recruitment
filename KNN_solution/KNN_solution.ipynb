{
 "cells": [
  {
   "cell_type": "code",
   "execution_count": 1,
   "id": "8657a7b0",
   "metadata": {},
   "outputs": [],
   "source": [
    "# importing every necessary function and library\n",
    "from sklearn.datasets import load_iris\n",
    "from sklearn.datasets import make_moons\n",
    "from sklearn.tree import DecisionTreeClassifier ,export_graphviz\n",
    "from sklearn.tree import DecisionTreeRegressor, plot_tree\n",
    "from sklearn.model_selection import train_test_split\n",
    "from sklearn.model_selection import GridSearchCV\n",
    "from sklearn.metrics import accuracy_score, confusion_matrix, classification_report  ## maybe use something different that accuracy later on\n",
    "from sklearn.model_selection import ShuffleSplit\n",
    "import numpy as np\n",
    "\n",
    "import pandas as pd\n",
    "from matplotlib import pyplot as plt"
   ]
  },
  {
   "cell_type": "code",
   "execution_count": 2,
   "id": "bc40420f",
   "metadata": {},
   "outputs": [
    {
     "name": "stdout",
     "output_type": "stream",
     "text": [
      "data shape: (37, 14)\n",
      "X shape: (37, 12)\n",
      "y shape: (37,)\n",
      "X cols: ['Heart width', 'Lung width', 'CTR - Cardiothoracic Ratio', 'xx', 'yy', 'xy', 'normalized_diff', 'Inscribed circle radius', 'Polygon Area Ratio', 'Heart perimeter', 'Heart area ', 'Lung area']\n"
     ]
    }
   ],
   "source": [
    "data = pd.read_csv(\"../task_data.csv\")\n",
    "data = data.replace(',', '.', regex=True)\n",
    "\n",
    "data.head(37)\n",
    "X = data.drop(columns=['ID', 'Cardiomegaly']) ## dropping ID, because there is no use for it (especially in a decision tree)\n",
    "y = data['Cardiomegaly']                      ## however Cardiomegaly has a use in determining the result\n",
    "## print(X, y)\n",
    "\n",
    "X_train, X_test, y_train, y_test = train_test_split(X, y, test_size=0.3, random_state=42) ## random state, so best_params_ stay the same throughout the whole process\n",
    "\n",
    "print(\"data shape:\", data.shape)\n",
    "print(\"X shape:\", X.shape)\n",
    "print(\"y shape:\", y.shape)\n",
    "print(\"X cols:\", list(X.columns))"
   ]
  }
 ],
 "metadata": {
  "kernelspec": {
   "display_name": "Python 3",
   "language": "python",
   "name": "python3"
  },
  "language_info": {
   "codemirror_mode": {
    "name": "ipython",
    "version": 3
   },
   "file_extension": ".py",
   "mimetype": "text/x-python",
   "name": "python",
   "nbconvert_exporter": "python",
   "pygments_lexer": "ipython3",
   "version": "3.13.1"
  }
 },
 "nbformat": 4,
 "nbformat_minor": 5
}
